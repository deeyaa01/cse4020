{
 "cells": [
  {
   "cell_type": "code",
   "execution_count": 27,
   "id": "c6cf9edf",
   "metadata": {},
   "outputs": [],
   "source": [
    "import pandas as pd\n",
    "import numpy as np\n",
    "from itertools import product"
   ]
  },
  {
   "cell_type": "code",
   "execution_count": 28,
   "id": "579ac05e",
   "metadata": {},
   "outputs": [
    {
     "name": "stdout",
     "output_type": "stream",
     "text": [
      "  F1 F2 Target\n",
      "0  A  C    Yes\n",
      "1  A  D    Yes\n"
     ]
    }
   ],
   "source": [
    "#to read the data in the csv file\n",
    "data = pd.read_csv(\"data2.csv\")\n",
    "print(data)"
   ]
  },
  {
   "cell_type": "code",
   "execution_count": 29,
   "id": "c0329fbd",
   "metadata": {},
   "outputs": [
    {
     "name": "stdout",
     "output_type": "stream",
     "text": [
      "The attributes are: \n",
      " [['A' 'C']\n",
      " ['A' 'D']]\n"
     ]
    }
   ],
   "source": [
    "#making an array of all the attributes\n",
    "concepts = np.array(data)[:,:-1]\n",
    "print(\"The attributes are: \\n\",concepts)"
   ]
  },
  {
   "cell_type": "code",
   "execution_count": 30,
   "id": "aeda76ed",
   "metadata": {},
   "outputs": [
    {
     "name": "stdout",
     "output_type": "stream",
     "text": [
      "The target is: \n",
      " ['Yes' 'Yes']\n"
     ]
    }
   ],
   "source": [
    "#segregating the target that has positive and negative examples\n",
    "target = np.array(data)[:,-1]\n",
    "print(\"The target is: \\n\",target)"
   ]
  },
  {
   "cell_type": "code",
   "execution_count": 31,
   "id": "edca1570",
   "metadata": {},
   "outputs": [],
   "source": [
    "#creating the version space to include every hypothesis\n",
    "F1 = ['A','B']\n",
    "F2 = ['C','D']\n",
    "specific_hypothesis = list(np.repeat('phi', len(F1)))\n",
    "F1.append('?')\n",
    "F2.append('?')\n",
    "hypotheses = [list(h) for h in product(F1, F2)]\n",
    "hypotheses.append(specific_hypothesis)"
   ]
  },
  {
   "cell_type": "code",
   "execution_count": 32,
   "id": "2a0f2f92",
   "metadata": {},
   "outputs": [],
   "source": [
    "#comparison function to find consistent hypothesis\n",
    "def compare(x, y):\n",
    "    for i in range(2):\n",
    "        if x[i] == y[i] or y[i] == '?' or x[i] == '?':\n",
    "            continue\n",
    "        else:\n",
    "            return 'No'\n",
    "    return 'Yes'"
   ]
  },
  {
   "cell_type": "code",
   "execution_count": 33,
   "id": "eb2a6e29",
   "metadata": {},
   "outputs": [],
   "source": [
    "#training function to implement list-then-eliminate algorithm\n",
    "def train(c,t):\n",
    "    global version_space\n",
    "    for i, h in enumerate(hypotheses):\n",
    "        outcome = 1\n",
    "        for j, val in enumerate(c):\n",
    "            outcome = outcome and (t[j] == compare(hypotheses[i], val))  \n",
    "        if outcome == 1:\n",
    "            version_space.append(h)"
   ]
  },
  {
   "cell_type": "code",
   "execution_count": 34,
   "id": "604ee6c8",
   "metadata": {},
   "outputs": [
    {
     "name": "stdout",
     "output_type": "stream",
     "text": [
      "Semantically distinct hypotheses or initial version space\n",
      "[['A', 'C'], ['A', 'D'], ['A', '?'], ['B', 'C'], ['B', 'D'], ['B', '?'], ['?', 'C'], ['?', 'D'], ['?', '?'], ['phi', 'phi']]\n",
      "Final version_space\n",
      "[['A', '?'], ['?', '?']]\n"
     ]
    }
   ],
   "source": [
    "#obtaining the final version space\n",
    "print(\"Semantically distinct hypotheses or initial version space\")\n",
    "print(hypotheses)\n",
    "version_space = []\n",
    "train(concepts, target)\n",
    "print('Final version_space')\n",
    "print(version_space)"
   ]
  },
  {
   "cell_type": "code",
   "execution_count": 4,
   "id": "80de02e1",
   "metadata": {},
   "outputs": [
    {
     "name": "stdout",
     "output_type": "stream",
     "text": [
      "  F1 F2 Target\n",
      "0  A  C    Yes\n",
      "1  A  D    Yes\n",
      "\n",
      "The attributes are: \n",
      " [['A' 'C']\n",
      " ['A' 'D']]\n",
      "\n",
      "The target is: \n",
      " ['Yes' 'Yes']\n",
      "\n",
      "Semantically distinct hypotheses or initial version space\n",
      "[['A', 'C'], ['A', 'D'], ['A', '?'], ['B', 'C'], ['B', 'D'], ['B', '?'], ['?', 'C'], ['?', 'D'], ['?', '?'], ['phi', 'phi']]\n",
      "\n",
      "Final version_space\n",
      "[['A', '?'], ['?', '?']]\n"
     ]
    }
   ],
   "source": [
    "import pandas as pd\n",
    "import numpy as np\n",
    "from itertools import product\n",
    "\n",
    "#to read the data in the csv file\n",
    "data = pd.read_csv(\"data2.csv\")\n",
    "print(data)\n",
    "\n",
    "#making an array of all the attributes\n",
    "concepts = np.array(data)[:,:-1]\n",
    "print(\"\\nThe attributes are: \\n\",concepts)\n",
    "\n",
    "#segregating the target that has positive and negative examples\n",
    "target = np.array(data)[:,-1]\n",
    "print(\"\\nThe target is: \\n\",target)\n",
    "\n",
    "\n",
    "#creating the version space to include every hypothesis\n",
    "F1 = ['A','B']\n",
    "F2 = ['C','D']\n",
    "specific_hypothesis = list(np.repeat('phi', len(F1)))\n",
    "F1.append('?')\n",
    "F2.append('?')\n",
    "hypotheses = [list(h) for h in product(F1, F2)]\n",
    "hypotheses.append(specific_hypothesis)\n",
    "\n",
    "#creating the version space to include every hypothesis\n",
    "F1 = ['A','B']\n",
    "F2 = ['C','D']\n",
    "specific_hypothesis = list(np.repeat('phi', len(F1)))\n",
    "F1.append('?')\n",
    "F2.append('?')\n",
    "hypotheses = [list(h) for h in product(F1, F2)]\n",
    "hypotheses.append(specific_hypothesis)\n",
    "\n",
    "#comparison function to find consistent hypothesis\n",
    "def compare(x, y):\n",
    "    for i in range(2):\n",
    "        if x[i] == y[i] or y[i] == '?' or x[i] == '?':\n",
    "            continue\n",
    "        else:\n",
    "            return 'No'\n",
    "    return 'Yes'\n",
    "\n",
    "#training function to implement list-then-eliminate algorithm\n",
    "def train(c,t):\n",
    "    global version_space\n",
    "    for i, h in enumerate(hypotheses):\n",
    "        outcome = 1\n",
    "        for j, val in enumerate(c):\n",
    "            outcome = outcome and (t[j] == compare(hypotheses[i], val))  \n",
    "        if outcome == 1:\n",
    "            version_space.append(h)\n",
    "            \n",
    "#obtaining the final version space\n",
    "print(\"\\nSemantically distinct hypotheses or initial version space\")\n",
    "print(hypotheses)\n",
    "version_space = []\n",
    "train(concepts, target)\n",
    "print('\\nFinal version_space')\n",
    "print(version_space)"
   ]
  },
  {
   "cell_type": "code",
   "execution_count": null,
   "id": "4ca1e938",
   "metadata": {},
   "outputs": [],
   "source": []
  }
 ],
 "metadata": {
  "kernelspec": {
   "display_name": "Python 3",
   "language": "python",
   "name": "python3"
  },
  "language_info": {
   "codemirror_mode": {
    "name": "ipython",
    "version": 3
   },
   "file_extension": ".py",
   "mimetype": "text/x-python",
   "name": "python",
   "nbconvert_exporter": "python",
   "pygments_lexer": "ipython3",
   "version": "3.8.8"
  }
 },
 "nbformat": 4,
 "nbformat_minor": 5
}
