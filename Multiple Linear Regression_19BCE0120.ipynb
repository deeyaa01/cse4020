{
 "cells": [
  {
   "cell_type": "code",
   "execution_count": 1,
   "id": "5d85b0a4",
   "metadata": {},
   "outputs": [],
   "source": [
    "#import necessary libraries\n",
    "import matplotlib.pyplot as plt\n",
    "import pandas as pd\n",
    "import numpy as np\n",
    "import math"
   ]
  },
  {
   "cell_type": "code",
   "execution_count": 8,
   "id": "7485059b",
   "metadata": {},
   "outputs": [],
   "source": [
    "#to find a and b in y = ax + b\n",
    "def findCoefficients(X,Y):\n",
    "    #number of dependent variables\n",
    "    N = len(X[0])\n",
    "    \n",
    "    #number of observations\n",
    "    size = np.size(Y)\n",
    "    \n",
    "    #The following matrices are used to solve the equations\n",
    "    \n",
    "    # A, B, C where\n",
    "    # A stores the summation of products of independent variables (x1^2, x1x2, x1x3, x2^2....)\n",
    "    # B stores the coefficient values (b1, b2, b3)\n",
    "    # C stores the summation of products of independent and dependent variables (x1y, x2y, x3y)\n",
    "    \n",
    "    A = np.empty([N,N], dtype = float)\n",
    "    C = np.empty([N,1], dtype = float)\n",
    "\n",
    "    for i in range(N):\n",
    "        for j in range(N):\n",
    "            A[i][j] = np.sum(np.multiply(X[:,i], X[:,j])) - (np.sum(X[:,i])*np.sum(X[:,j])/size)\n",
    "   \n",
    "\n",
    "    for i in range(N):\n",
    "        C[i] = np.sum(np.multiply(X[:,i], Y)) - (np.sum(X[:,i])*np.sum(Y)/size)\n",
    "    \n",
    "    \n",
    "    B = np.matmul(np.linalg.inv(A), C)\n",
    "    #print(\"B: \", B)\n",
    "    return B"
   ]
  },
  {
   "cell_type": "code",
   "execution_count": 12,
   "id": "8b9de7b9",
   "metadata": {},
   "outputs": [],
   "source": [
    "def plotRegression(X, Y, a, B):\n",
    "    ## setting plot style\n",
    "    plt.style.use('fivethirtyeight')\n",
    "\n",
    "    ##calculating predicted Y values\n",
    "    N = len(X[0])\n",
    "    predY = np.zeros([1,len(Y)])\n",
    "    \n",
    "    \n",
    "    for i in range(N):\n",
    "        predY = predY + B[i]*X[:,i]\n",
    "    predY = predY\n",
    "    \n",
    "    print(\"Y: \",Y)\n",
    "    print(\"Predicted Y: \", predY)\n",
    "    \n",
    "    plt.scatter(X[:, 1], Y, color = \"green\", s = 10, label = \"Original Y\")\n",
    "    plt.scatter(X[:, 1], predY, color = \"blue\", s = 10, label = 'Predicted Y')\n",
    "    plt.legend(loc = 'upper left')\n",
    "    plt.title(\"B = {}\".format(B[i]))\n",
    "    plt.show()"
   ]
  },
  {
   "cell_type": "code",
   "execution_count": 13,
   "id": "1913258c",
   "metadata": {},
   "outputs": [
    {
     "name": "stdout",
     "output_type": "stream",
     "text": [
      "   x1  x2    y\n",
      "0  60  22  140\n",
      "1  62  25  155\n",
      "2  67  24  159\n",
      "3  70  20  179\n",
      "4  71  15  192\n",
      "5  72  14  200\n",
      "6  75  14  212\n",
      "7  78  11  215\n",
      "Estimated coefficient:a = [-6.86748725]\n",
      "\n",
      "Estimated coefficient:B0 = [3.1478931]\n",
      "\n",
      "Estimated coefficient:B1 = [-1.65614327]\n",
      "\n",
      "Y:  [140 155 159 179 192 200 212 215]\n",
      "Predicted Y:  [[152.43843424 153.76579064 171.16139942 187.22965181 198.65826126\n",
      "  203.46229763 212.90597694 227.31808605]]\n"
     ]
    },
    {
     "data": {
      "image/png": "[encoded data removed]",
      "text/plain": [
       "<Figure size 432x288 with 1 Axes>"
      ]
     },
     "metadata": {},
     "output_type": "display_data"
    }
   ],
   "source": [
    "data = pd.read_csv('19BCE0120_multilple_linear_reg.csv')\n",
    "data.head()\n",
    "print(data)\n",
    "\n",
    "X = data.iloc[:,:-1].values #importing the values from data frame\n",
    "Y = data.iloc[:,-1].values\n",
    "\n",
    "#X = np.array([[3,4,5,6,2], [8,5,7,3,1]])\n",
    "#Y = np.array([-3.7, 3.5, 2.5, 11.5, 5.7])\n",
    "\n",
    "#print(\"X: \", np.sum(np.multiply(X[0], X[1])))\n",
    "\n",
    "B = findCoefficients(X,Y)\n",
    " \n",
    "N = len(X[0])\n",
    "a = np.mean(Y)\n",
    "\n",
    "for i in range(N):\n",
    "    a = a - B[i]*(np.mean(X[:,i]))\n",
    "\n",
    "    \n",
    "print(\"Estimated coefficient:a = {}\\n\".format(a))\n",
    "for i in range(N):\n",
    "    print(\"Estimated coefficient:B{} = {}\\n\".format(i, B[i]))\n",
    "\n",
    "\n",
    "plotRegression(X,Y,a,B)"
   ]
  },
  {
   "cell_type": "code",
   "execution_count": null,
   "id": "c8ec70e3",
   "metadata": {},
   "outputs": [],
   "source": []
  },
  {
   "cell_type": "code",
   "execution_count": null,
   "id": "f32e3cc2",
   "metadata": {},
   "outputs": [],
   "source": []
  }
 ],
 "metadata": {
  "kernelspec": {
   "display_name": "Python 3",
   "language": "python",
   "name": "python3"
  },
  "language_info": {
   "codemirror_mode": {
    "name": "ipython",
    "version": 3
   },
   "file_extension": ".py",
   "mimetype": "text/x-python",
   "name": "python",
   "nbconvert_exporter": "python",
   "pygments_lexer": "ipython3",
   "version": "3.8.8"
  }
 },
 "nbformat": 4,
 "nbformat_minor": 5
}
