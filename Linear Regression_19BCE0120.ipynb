{
 "cells": [
  {
   "cell_type": "code",
   "execution_count": 1,
   "id": "f705da27",
   "metadata": {},
   "outputs": [],
   "source": [
    "#import necessary libraries\n",
    "import matplotlib.pyplot as plt\n",
    "import pandas as pd\n",
    "import numpy as np\n",
    "from sklearn import datasets"
   ]
  },
  {
   "cell_type": "code",
   "execution_count": 2,
   "id": "fac2d407",
   "metadata": {},
   "outputs": [],
   "source": [
    "#to find a and b in y = ax + b\n",
    "def findCoefficients(x,y):\n",
    "    print(x)\n",
    "    print(y)\n",
    "    \n",
    "    #number of observations\n",
    "    n = np.size(x)\n",
    "    \n",
    "    #mean of x and y \n",
    "    x_mean = np.mean(x)\n",
    "    y_mean = np.mean(y)\n",
    "    \n",
    "    #to find variance of x\n",
    "    print(\"\\nMean of x = {}\".format(x_mean))\n",
    "    x = x - x_mean;\n",
    "    print(\"\\nx - mean(x) = {}\".format(x))\n",
    "    square_x = np.square(x)\n",
    "    print(\"\\nSquare of x = {}\".format(square_x))\n",
    "    \n",
    "    var_x = np.sum(square_x)/(n-1)\n",
    "\n",
    "    #to find covariance of x and y\n",
    "    print(\"\\nMean of y = {}\".format(y_mean))\n",
    "    y = y - y_mean\n",
    "    print(\"\\ny - mean(y) = {}\".format(y))\n",
    "\n",
    "\n",
    "    mul_xy = np.multiply(x, y)\n",
    "    \n",
    "    print(\"\\nProduct of squares = {}\".format(mul_xy))\n",
    "    \n",
    "    cov_xy = np.sum(mul_xy)/(n-1)\n",
    "    \n",
    "    #to find value of a and b\n",
    "    b = cov_xy/var_x\n",
    "    a = y_mean - b*x_mean\n",
    "    \n",
    "    return(a, b)"
   ]
  },
  {
   "cell_type": "code",
   "execution_count": 3,
   "id": "557c6481",
   "metadata": {},
   "outputs": [],
   "source": [
    "#to plot the predicted regression line\n",
    "def plotRegression(x,y,coeff):\n",
    "    plt.scatter(x, y, color = \"r\",\n",
    "               marker = \"o\", s = 30)\n",
    " \n",
    "    # predicted response vector\n",
    "    y_pred = coeff[0] + coeff[1]*x\n",
    " \n",
    "    # plotting the regression line\n",
    "    plt.plot(x, y_pred, color = \"g\")\n",
    " \n",
    "    # putting labels\n",
    "    plt.xlabel('x')\n",
    "    plt.ylabel('y')\n",
    " \n",
    "    # function to show plot\n",
    "    plt.show()"
   ]
  },
  {
   "cell_type": "code",
   "execution_count": 5,
   "id": "c3e9c36e",
   "metadata": {},
   "outputs": [
    {
     "name": "stdout",
     "output_type": "stream",
     "text": [
      "[30 28 32 25 25 25 22 24 35 40]\n",
      "[25 30 27 40 42 40 50 45 30 25]\n",
      "\n",
      "Mean of x = 28.6\n",
      "\n",
      "x - mean(x) = [ 1.4 -0.6  3.4 -3.6 -3.6 -3.6 -6.6 -4.6  6.4 11.4]\n",
      "\n",
      "Square of x = [  1.96   0.36  11.56  12.96  12.96  12.96  43.56  21.16  40.96 129.96]\n",
      "\n",
      "Mean of y = 35.4\n",
      "\n",
      "y - mean(y) = [-10.4  -5.4  -8.4   4.6   6.6   4.6  14.6   9.6  -5.4 -10.4]\n",
      "\n",
      "Product of squares = [ -14.56    3.24  -28.56  -16.56  -23.76  -16.56  -96.36  -44.16  -34.56\n",
      " -118.56]\n",
      "Estimated coefficients:\n",
      "a = 74.11511789181691            \n",
      "b = -1.3536754507628292\n"
     ]
    },
    {
     "data": {
      "image/png": "[encoded data removed]",
      "text/plain": [
       "<Figure size 432x288 with 1 Axes>"
      ]
     },
     "metadata": {
      "needs_background": "light"
     },
     "output_type": "display_data"
    }
   ],
   "source": [
    "x = np.array([30, 28, 32, 25, 25, 25, 22, 24, 35, 40])\n",
    "y = np.array([25, 30, 27, 40, 42, 40, 50, 45, 30, 25])\n",
    "\n",
    "\n",
    "coeff = findCoefficients(x,y)\n",
    "\n",
    "print(\"Estimated coefficients:\\na = {}  \n",
    "          \\nb = {}\".format(coeff[0], coeff[1]))\n",
    "\n",
    "plotRegression(x,y,coeff)"
   ]
  },
  {
   "cell_type": "code",
   "execution_count": null,
   "id": "ad2d967e",
   "metadata": {},
   "outputs": [],
   "source": []
  },
  {
   "cell_type": "code",
   "execution_count": null,
   "id": "076e3568",
   "metadata": {},
   "outputs": [],
   "source": []
  }
 ],
 "metadata": {
  "kernelspec": {
   "display_name": "Python 3",
   "language": "python",
   "name": "python3"
  },
  "language_info": {
   "codemirror_mode": {
    "name": "ipython",
    "version": 3
   },
   "file_extension": ".py",
   "mimetype": "text/x-python",
   "name": "python",
   "nbconvert_exporter": "python",
   "pygments_lexer": "ipython3",
   "version": "3.8.8"
  }
 },
 "nbformat": 4,
 "nbformat_minor": 5
}
